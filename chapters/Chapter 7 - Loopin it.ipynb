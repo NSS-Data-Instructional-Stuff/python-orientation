{
 "cells": [
  {
   "cell_type": "markdown",
   "metadata": {},
   "source": [
    "# Loops\n",
    "\n",
    "Many times in python you will find yourself wanting to do something for every element in a collection. \n",
    "This could be applying some transformation to it, printing something, or anything else!\n",
    "\n",
    "Luckily, python makes this very straightforward for us. \n",
    "\n",
    "### General syntax: \n",
    "\n",
    "```python\n",
    "for <element> in <iterator>:\n",
    "    # do something!\n",
    "```\n",
    "\n",
    "Before we think about the `element`, we have to think about the `iterator`. \n",
    "What are we iterating over?\n",
    "The answer to this will determine what each `element` will be.\n",
    "\n",
    "<hr>\n",
    "\n",
    "## `Element` by `Type` of `Iterator`\n",
    "\n",
    "* `Lists` - element is each **_value_**\n",
    "* `Dictionaries` - element is each **_key_**\n",
    "    * Use `<dictionary>.values()` as the `iterator` to get all the **_values_**\n",
    "    * Use `<dictionary>.key()` as the `iterator` to get all the **_keys_**\n",
    "    * Use `<dictionary>.items()` as the `iterator` to get all the keys and values as **_tuple pairs_**\n",
    "* `Sets` - element is each **_value_**\n",
    "* `Tuples` - element is each **_value_**\n",
    "\n",
    "<hr>\n",
    "\n",
    "**SPECIAL**  \n",
    "You can use the function **_enumerate_** with your iterator to return both the _index_ and the original value.\n",
    "```python\n",
    "for (ind, <element>) in enumerate(<iterable>):\n",
    "    # do something!\n",
    "```\n"
   ]
  },
  {
   "cell_type": "markdown",
   "metadata": {},
   "source": [
    "### Some Examples"
   ]
  },
  {
   "cell_type": "code",
   "execution_count": 5,
   "metadata": {},
   "outputs": [],
   "source": [
    "my_list = [1, 2, 3]\n",
    "my_dictionary = {'one': 1, 'two': 2, 'three': 3}\n",
    "my_tuple = (4, 5, 6)\n",
    "my_set = {2, 3, 5, 7}"
   ]
  },
  {
   "cell_type": "code",
   "execution_count": 6,
   "metadata": {},
   "outputs": [
    {
     "name": "stdout",
     "output_type": "stream",
     "text": [
      "List value:  1\n",
      "List value:  2\n",
      "List value:  3\n"
     ]
    }
   ],
   "source": [
    "for value in my_list:\n",
    "    print('List value: ', value)"
   ]
  },
  {
   "cell_type": "code",
   "execution_count": 7,
   "metadata": {},
   "outputs": [
    {
     "name": "stdout",
     "output_type": "stream",
     "text": [
      "Tuple value:  4\n",
      "Tuple value:  5\n",
      "Tuple value:  6\n"
     ]
    }
   ],
   "source": [
    "for value in my_tuple:\n",
    "    print('Tuple value: ', value)"
   ]
  },
  {
   "cell_type": "code",
   "execution_count": 8,
   "metadata": {},
   "outputs": [
    {
     "name": "stdout",
     "output_type": "stream",
     "text": [
      "Set value:  2\n",
      "Set value:  3\n",
      "Set value:  5\n",
      "Set value:  7\n"
     ]
    }
   ],
   "source": [
    "for value in my_set:\n",
    "    print('Set value: ', value)"
   ]
  },
  {
   "cell_type": "code",
   "execution_count": 10,
   "metadata": {},
   "outputs": [
    {
     "name": "stdout",
     "output_type": "stream",
     "text": [
      "Dictionary key:  one\n",
      "Dictionary key:  two\n",
      "Dictionary key:  three\n",
      "\n",
      "Dictionary key:  one\n",
      "Dictionary key:  two\n",
      "Dictionary key:  three\n",
      "\n",
      "Dictionary value:  1\n",
      "Dictionary value:  2\n",
      "Dictionary value:  3\n",
      "\n",
      "Dictionary key/value:  one 1\n",
      "Dictionary key/value:  two 2\n",
      "Dictionary key/value:  three 3\n"
     ]
    }
   ],
   "source": [
    "for key in my_dictionary:\n",
    "    print('Dictionary key: ', key)\n",
    "    \n",
    "print()\n",
    "    \n",
    "for key in my_dictionary.keys():\n",
    "    print('Dictionary key: ', key)\n",
    "    \n",
    "print()\n",
    "    \n",
    "for value in my_dictionary.values():\n",
    "    print('Dictionary value: ', value)\n",
    "    \n",
    "print()\n",
    "    \n",
    "for (key, value) in my_dictionary.items():\n",
    "    print('Dictionary key/value: ', key, value)"
   ]
  },
  {
   "cell_type": "code",
   "execution_count": 12,
   "metadata": {},
   "outputs": [
    {
     "name": "stdout",
     "output_type": "stream",
     "text": [
      "Set index/value with enumerate:  0 2\n",
      "Set index/value with enumerate:  1 3\n",
      "Set index/value with enumerate:  2 5\n",
      "Set index/value with enumerate:  3 7\n"
     ]
    }
   ],
   "source": [
    "for (ind, value) in enumerate(my_set):\n",
    "    print('Set index/value with enumerate: ', ind, value)"
   ]
  },
  {
   "cell_type": "markdown",
   "metadata": {},
   "source": [
    "<hr>\n",
    "\n",
    "\n",
    "### YOUR TURN\n",
    "\n",
    "**Create a dictionary with key value pairs to represent words (key) and its definition (value)**"
   ]
  },
  {
   "cell_type": "code",
   "execution_count": 13,
   "metadata": {},
   "outputs": [],
   "source": [
    "word_definitions = dict()"
   ]
  },
  {
   "cell_type": "markdown",
   "metadata": {},
   "source": [
    "**Add several more words and their definitions**\n",
    "Example: \n",
    "```python\n",
    "word_definitions[\"Awesome\"] = \"The feeling of students when they are learning Python\"\n",
    "```"
   ]
  },
  {
   "cell_type": "code",
   "execution_count": null,
   "metadata": {},
   "outputs": [],
   "source": []
  },
  {
   "cell_type": "markdown",
   "metadata": {},
   "source": [
    "**Use square bracket lookup to get the definition of two words and output them to the console with `print()`**"
   ]
  },
  {
   "cell_type": "code",
   "execution_count": null,
   "metadata": {},
   "outputs": [],
   "source": []
  },
  {
   "cell_type": "markdown",
   "metadata": {},
   "source": [
    "**Loop over the dictionary to get the following output:**\n",
    "```\n",
    "The definition of [WORD] is [DEFINITION]\n",
    "The definition of [WORD] is [DEFINITION]\n",
    "The definition of [WORD] is [DEFINITION]\n",
    "```"
   ]
  },
  {
   "cell_type": "code",
   "execution_count": null,
   "metadata": {},
   "outputs": [],
   "source": []
  },
  {
   "cell_type": "markdown",
   "metadata": {},
   "source": [
    "<hr>"
   ]
  },
  {
   "cell_type": "markdown",
   "metadata": {},
   "source": [
    "### YOUR TURN.. AGAIN!\n",
    "\n",
    "Remember this??"
   ]
  },
  {
   "cell_type": "code",
   "execution_count": 14,
   "metadata": {},
   "outputs": [
    {
     "name": "stdout",
     "output_type": "stream",
     "text": [
      "No idea what the name could be!\n"
     ]
    }
   ],
   "source": [
    "name = 'FooBar'\n",
    "\n",
    "if name == 'Foo':\n",
    "    print('First condition met')\n",
    "\n",
    "elif name == 'Bar':\n",
    "    print('Second condition met')\n",
    "\n",
    "else:\n",
    "    print('No idea what the name could be!')"
   ]
  },
  {
   "cell_type": "code",
   "execution_count": 15,
   "metadata": {},
   "outputs": [],
   "source": [
    "primes = [2, 3, 5, 7, 11, 13, 17, 19, 23, 29, 31, 37, 41, 43, 47, 53, 59, 61, 67, 71, 73, 79, 83, 89, 97]"
   ]
  },
  {
   "cell_type": "markdown",
   "metadata": {},
   "source": [
    "* For each prime number..\n",
    "* If.. the number is even, print `Prime [NUMBER] is even!`\n",
    "* Else if.. the number is less than 10, print `Prime [NUMBER] less than 10!`\n",
    "* Else if.. the number is less than 50, print `Prime [NUMBER] less than 50!`\n",
    "* Else.. print `Prime [NUMBER] is really big!`"
   ]
  },
  {
   "cell_type": "code",
   "execution_count": null,
   "metadata": {},
   "outputs": [],
   "source": []
  }
 ],
 "metadata": {
  "kernelspec": {
   "display_name": "Python 3",
   "language": "python",
   "name": "python3"
  },
  "language_info": {
   "codemirror_mode": {
    "name": "ipython",
    "version": 3
   },
   "file_extension": ".py",
   "mimetype": "text/x-python",
   "name": "python",
   "nbconvert_exporter": "python",
   "pygments_lexer": "ipython3",
   "version": "3.7.4"
  }
 },
 "nbformat": 4,
 "nbformat_minor": 2
}
